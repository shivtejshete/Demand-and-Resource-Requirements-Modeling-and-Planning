{
 "cells": [
  {
   "cell_type": "code",
   "execution_count": 1,
   "id": "0d8535a3",
   "metadata": {},
   "outputs": [],
   "source": [
    "import pandas as pd \n",
    "import numpy as np\n",
    "import matplotlib.pyplot as plt\n",
    "import os\n",
    "import re"
   ]
  },
  {
   "cell_type": "code",
   "execution_count": 2,
   "id": "ccc66d75",
   "metadata": {},
   "outputs": [
    {
     "data": {
      "text/html": [
       "<div>\n",
       "<style scoped>\n",
       "    .dataframe tbody tr th:only-of-type {\n",
       "        vertical-align: middle;\n",
       "    }\n",
       "\n",
       "    .dataframe tbody tr th {\n",
       "        vertical-align: top;\n",
       "    }\n",
       "\n",
       "    .dataframe thead th {\n",
       "        text-align: right;\n",
       "    }\n",
       "</style>\n",
       "<table border=\"1\" class=\"dataframe\">\n",
       "  <thead>\n",
       "    <tr style=\"text-align: right;\">\n",
       "      <th></th>\n",
       "      <th>Year</th>\n",
       "      <th>Month</th>\n",
       "      <th>Day</th>\n",
       "      <th>FC</th>\n",
       "      <th>Market Category</th>\n",
       "      <th>Product</th>\n",
       "      <th>Region</th>\n",
       "      <th>Units</th>\n",
       "    </tr>\n",
       "  </thead>\n",
       "  <tbody>\n",
       "    <tr>\n",
       "      <th>0</th>\n",
       "      <td>1</td>\n",
       "      <td>1</td>\n",
       "      <td>1</td>\n",
       "      <td>1</td>\n",
       "      <td>1</td>\n",
       "      <td>1</td>\n",
       "      <td>0</td>\n",
       "      <td>0.0900</td>\n",
       "    </tr>\n",
       "    <tr>\n",
       "      <th>1</th>\n",
       "      <td>1</td>\n",
       "      <td>1</td>\n",
       "      <td>1</td>\n",
       "      <td>1</td>\n",
       "      <td>1</td>\n",
       "      <td>2</td>\n",
       "      <td>0</td>\n",
       "      <td>0.0900</td>\n",
       "    </tr>\n",
       "    <tr>\n",
       "      <th>2</th>\n",
       "      <td>1</td>\n",
       "      <td>1</td>\n",
       "      <td>1</td>\n",
       "      <td>1</td>\n",
       "      <td>1</td>\n",
       "      <td>3</td>\n",
       "      <td>0</td>\n",
       "      <td>0.0225</td>\n",
       "    </tr>\n",
       "    <tr>\n",
       "      <th>3</th>\n",
       "      <td>1</td>\n",
       "      <td>1</td>\n",
       "      <td>1</td>\n",
       "      <td>1</td>\n",
       "      <td>1</td>\n",
       "      <td>4</td>\n",
       "      <td>0</td>\n",
       "      <td>0.0225</td>\n",
       "    </tr>\n",
       "    <tr>\n",
       "      <th>4</th>\n",
       "      <td>1</td>\n",
       "      <td>1</td>\n",
       "      <td>2</td>\n",
       "      <td>1</td>\n",
       "      <td>1</td>\n",
       "      <td>1</td>\n",
       "      <td>0</td>\n",
       "      <td>0.1350</td>\n",
       "    </tr>\n",
       "  </tbody>\n",
       "</table>\n",
       "</div>"
      ],
      "text/plain": [
       "   Year  Month  Day  FC  Market Category  Product  Region   Units\n",
       "0     1      1    1   1                1        1       0  0.0900\n",
       "1     1      1    1   1                1        2       0  0.0900\n",
       "2     1      1    1   1                1        3       0  0.0225\n",
       "3     1      1    1   1                1        4       0  0.0225\n",
       "4     1      1    2   1                1        1       0  0.1350"
      ]
     },
     "execution_count": 2,
     "metadata": {},
     "output_type": "execute_result"
    }
   ],
   "source": [
    "df = pd.read_csv(r'C:\\Users\\shivt\\OneDrive\\Desktop\\SELF\\GaTech\\Courses\\Warehousing\\Data\\Demand_WB1_210918.csv')\n",
    "df.head()"
   ]
  },
  {
   "cell_type": "code",
   "execution_count": 3,
   "id": "4ed53fcc",
   "metadata": {},
   "outputs": [
    {
     "data": {
      "text/plain": [
       "Year               604800\n",
       "Month              604800\n",
       "Day                604800\n",
       "FC                 604800\n",
       "Market Category    604800\n",
       "Product            604800\n",
       "Region             604800\n",
       "Units              604800\n",
       "dtype: int64"
      ]
     },
     "execution_count": 3,
     "metadata": {},
     "output_type": "execute_result"
    }
   ],
   "source": [
    "df.count()"
   ]
  },
  {
   "cell_type": "code",
   "execution_count": 4,
   "id": "15008881",
   "metadata": {},
   "outputs": [
    {
     "name": "stdout",
     "output_type": "stream",
     "text": [
      "Year [ 1  2  3  4  5  6  7  8  9 10]\n",
      "Month [ 1  2  3  4  5  6  7  8  9 10 11 12]\n",
      "Day [ 1  2  3  4  5  6  7  8  9 10 11 12 13 14 15 16 17 18 19 20 21 22 23 24\n",
      " 25 26 27 28]\n",
      "FC [ 1  2  3  4  5  6  7  8  9 10 11 12 13 14 15]\n",
      "Market Category [1 2 3]\n",
      "Product [1 2 3 4]\n",
      "Region [0]\n",
      "Units [9.00000000e-02 2.25000000e-02 1.35000000e-01 ... 2.70349004e+01\n",
      " 2.16279203e+01 4.32558406e+01]\n"
     ]
    }
   ],
   "source": [
    "for i in range(len(list(df))):\n",
    "    print(df.columns[i] ,df.iloc[:,i].unique())"
   ]
  },
  {
   "cell_type": "code",
   "execution_count": 5,
   "id": "f185fbcb",
   "metadata": {},
   "outputs": [],
   "source": [
    "df_aggregated = df.groupby(by=['Year', 'Month', 'Day', 'FC', 'Market Category', 'Region'])['Units'].sum()"
   ]
  },
  {
   "cell_type": "code",
   "execution_count": 6,
   "id": "0098c68c",
   "metadata": {},
   "outputs": [],
   "source": [
    "#df_aggregated.groupby(by=['Year']).sum()   \n",
    "#matches df.groupby(by='Year')['Units'].sum()"
   ]
  },
  {
   "cell_type": "code",
   "execution_count": 7,
   "id": "167e628b",
   "metadata": {},
   "outputs": [
    {
     "data": {
      "image/png": "[encoded data removed]",
      "text/plain": [
       "<Figure size 432x288 with 1 Axes>"
      ]
     },
     "metadata": {
      "needs_background": "light"
     },
     "output_type": "display_data"
    }
   ],
   "source": [
    "plt.plot(df_aggregated.groupby(by=['Year']).sum())\n",
    "plt.title('Demand growth over 10 years for WB')\n",
    "plt.xlabel('Year')\n",
    "plt.ylabel('Demand Quantity')\n",
    "plt.tight_layout()"
   ]
  },
  {
   "cell_type": "markdown",
   "id": "2fb57a84",
   "metadata": {},
   "source": [
    "### Finding FC level demand for each market and deriving customer visits "
   ]
  },
  {
   "cell_type": "code",
   "execution_count": 8,
   "id": "67d7596e",
   "metadata": {},
   "outputs": [],
   "source": [
    "df_aggregated= df_aggregated.reset_index()"
   ]
  },
  {
   "cell_type": "code",
   "execution_count": 9,
   "id": "6ad6a62c",
   "metadata": {},
   "outputs": [],
   "source": [
    "df_1_2 = df_aggregated[(df_aggregated['Market Category']==1) | (df_aggregated['Market Category']==2)].reset_index(drop=True)"
   ]
  },
  {
   "cell_type": "code",
   "execution_count": 10,
   "id": "e2f877e1",
   "metadata": {},
   "outputs": [
    {
     "data": {
      "text/html": [
       "<div>\n",
       "<style scoped>\n",
       "    .dataframe tbody tr th:only-of-type {\n",
       "        vertical-align: middle;\n",
       "    }\n",
       "\n",
       "    .dataframe tbody tr th {\n",
       "        vertical-align: top;\n",
       "    }\n",
       "\n",
       "    .dataframe thead th {\n",
       "        text-align: right;\n",
       "    }\n",
       "</style>\n",
       "<table border=\"1\" class=\"dataframe\">\n",
       "  <thead>\n",
       "    <tr style=\"text-align: right;\">\n",
       "      <th></th>\n",
       "      <th>Month</th>\n",
       "      <th>Day</th>\n",
       "      <th>FC</th>\n",
       "      <th>Market Category</th>\n",
       "      <th>Region</th>\n",
       "      <th>Units</th>\n",
       "    </tr>\n",
       "    <tr>\n",
       "      <th>Year</th>\n",
       "      <th></th>\n",
       "      <th></th>\n",
       "      <th></th>\n",
       "      <th></th>\n",
       "      <th></th>\n",
       "      <th></th>\n",
       "    </tr>\n",
       "  </thead>\n",
       "  <tbody>\n",
       "    <tr>\n",
       "      <th>1</th>\n",
       "      <td>65520</td>\n",
       "      <td>146160</td>\n",
       "      <td>80640</td>\n",
       "      <td>15120</td>\n",
       "      <td>0</td>\n",
       "      <td>360.000000</td>\n",
       "    </tr>\n",
       "    <tr>\n",
       "      <th>2</th>\n",
       "      <td>65520</td>\n",
       "      <td>146160</td>\n",
       "      <td>80640</td>\n",
       "      <td>15120</td>\n",
       "      <td>0</td>\n",
       "      <td>991.597531</td>\n",
       "    </tr>\n",
       "    <tr>\n",
       "      <th>3</th>\n",
       "      <td>65520</td>\n",
       "      <td>146160</td>\n",
       "      <td>80640</td>\n",
       "      <td>15120</td>\n",
       "      <td>0</td>\n",
       "      <td>2712.498642</td>\n",
       "    </tr>\n",
       "    <tr>\n",
       "      <th>4</th>\n",
       "      <td>65520</td>\n",
       "      <td>146160</td>\n",
       "      <td>80640</td>\n",
       "      <td>15120</td>\n",
       "      <td>0</td>\n",
       "      <td>4620.049756</td>\n",
       "    </tr>\n",
       "    <tr>\n",
       "      <th>5</th>\n",
       "      <td>65520</td>\n",
       "      <td>146160</td>\n",
       "      <td>80640</td>\n",
       "      <td>15120</td>\n",
       "      <td>0</td>\n",
       "      <td>7962.099435</td>\n",
       "    </tr>\n",
       "    <tr>\n",
       "      <th>6</th>\n",
       "      <td>65520</td>\n",
       "      <td>146160</td>\n",
       "      <td>80640</td>\n",
       "      <td>15120</td>\n",
       "      <td>0</td>\n",
       "      <td>12687.896942</td>\n",
       "    </tr>\n",
       "    <tr>\n",
       "      <th>7</th>\n",
       "      <td>65520</td>\n",
       "      <td>146160</td>\n",
       "      <td>80640</td>\n",
       "      <td>15120</td>\n",
       "      <td>0</td>\n",
       "      <td>18699.271723</td>\n",
       "    </tr>\n",
       "    <tr>\n",
       "      <th>8</th>\n",
       "      <td>65520</td>\n",
       "      <td>146160</td>\n",
       "      <td>80640</td>\n",
       "      <td>15120</td>\n",
       "      <td>0</td>\n",
       "      <td>26421.942044</td>\n",
       "    </tr>\n",
       "    <tr>\n",
       "      <th>9</th>\n",
       "      <td>65520</td>\n",
       "      <td>146160</td>\n",
       "      <td>80640</td>\n",
       "      <td>15120</td>\n",
       "      <td>0</td>\n",
       "      <td>35999.416234</td>\n",
       "    </tr>\n",
       "    <tr>\n",
       "      <th>10</th>\n",
       "      <td>65520</td>\n",
       "      <td>146160</td>\n",
       "      <td>80640</td>\n",
       "      <td>15120</td>\n",
       "      <td>0</td>\n",
       "      <td>45039.352774</td>\n",
       "    </tr>\n",
       "  </tbody>\n",
       "</table>\n",
       "</div>"
      ],
      "text/plain": [
       "      Month     Day     FC  Market Category  Region         Units\n",
       "Year                                                             \n",
       "1     65520  146160  80640            15120       0    360.000000\n",
       "2     65520  146160  80640            15120       0    991.597531\n",
       "3     65520  146160  80640            15120       0   2712.498642\n",
       "4     65520  146160  80640            15120       0   4620.049756\n",
       "5     65520  146160  80640            15120       0   7962.099435\n",
       "6     65520  146160  80640            15120       0  12687.896942\n",
       "7     65520  146160  80640            15120       0  18699.271723\n",
       "8     65520  146160  80640            15120       0  26421.942044\n",
       "9     65520  146160  80640            15120       0  35999.416234\n",
       "10    65520  146160  80640            15120       0  45039.352774"
      ]
     },
     "execution_count": 10,
     "metadata": {},
     "output_type": "execute_result"
    }
   ],
   "source": [
    "df_1_2.groupby('Year').sum()"
   ]
  },
  {
   "cell_type": "code",
   "execution_count": 10,
   "id": "196eeebb",
   "metadata": {},
   "outputs": [
    {
     "data": {
      "text/plain": [
       "Year\n",
       "1       360.000000\n",
       "2       991.597531\n",
       "3      2712.498642\n",
       "4      4620.049756\n",
       "5      7962.099435\n",
       "6     12687.896942\n",
       "7     18699.271723\n",
       "8     26421.942044\n",
       "9     35999.416234\n",
       "10    45039.352774\n",
       "Name: Units, dtype: float64"
      ]
     },
     "execution_count": 10,
     "metadata": {},
     "output_type": "execute_result"
    }
   ],
   "source": [
    "df[(df['Market Category']==1) | (df['Market Category']==2)].groupby(by='Year')['Units'].sum()"
   ]
  },
  {
   "cell_type": "code",
   "execution_count": 11,
   "id": "6d1ca43f",
   "metadata": {},
   "outputs": [
    {
     "data": {
      "text/plain": [
       "Year\n",
       "1     11640.000000\n",
       "2     11809.395061\n",
       "3     11741.936420\n",
       "4     12595.499887\n",
       "5     13217.697562\n",
       "6     13897.950083\n",
       "7     14681.536349\n",
       "8     14881.777444\n",
       "9     12938.570664\n",
       "10    13517.450185\n",
       "Name: Units, dtype: float64"
      ]
     },
     "execution_count": 11,
     "metadata": {},
     "output_type": "execute_result"
    }
   ],
   "source": [
    "df[(df['Market Category']==3)].groupby(by='Year')['Units'].sum()"
   ]
  },
  {
   "cell_type": "code",
   "execution_count": 12,
   "id": "7f0f9b36",
   "metadata": {},
   "outputs": [
    {
     "name": "stdout",
     "output_type": "stream",
     "text": [
      "159195.41456199065\n",
      "286415.938737442\n"
     ]
    }
   ],
   "source": [
    "print(df.groupby(by='FC')['Units'].sum()[:-1].sum())\n",
    "print(df.groupby(by='Year')['Units'].sum().sum())"
   ]
  },
  {
   "cell_type": "code",
   "execution_count": 15,
   "id": "e5e408b7",
   "metadata": {},
   "outputs": [
    {
     "name": "stdout",
     "output_type": "stream",
     "text": [
      "Wall time: 41.2 s\n"
     ]
    }
   ],
   "source": [
    "%%time\n",
    "# df_1_2.apply(lambda x : get_cust_visit(x['Market Category'],x['Units'] ), axis=1)\n",
    "\n",
    "#Customer interaction characterization\n",
    "#simulation sample size for estimated customer interaction %\n",
    "max_sim_customer_sample = 50\n",
    "sim_upper_bound_percentile = 97.5\n",
    "sim_lower_bound_percentile = 2.5\n",
    "\n",
    "#primary market\n",
    "prim_mean_visit = 0.75\n",
    "prim_min_visit = 0.5\n",
    "prim_max_visit = 0.9\n",
    "\n",
    "\n",
    "\n",
    "\n",
    "#secondary market\n",
    "sec_mean_visit = 0.2\n",
    "sec_min_visit = 0.1\n",
    "sec_max_visit = 0.35\n",
    "\n",
    "#calculate estimations of customer visits based on demand expected\n",
    "np.random.seed=1 \n",
    "visits_count=list(df_1_2.apply(lambda x : get_cust_visit(x['Market Category'], x['Units']), axis=1))\n",
    "\n",
    "#attach results together and rename\n",
    "df_customer_visit_final = pd.concat([df_1_2, pd.DataFrame(visits_count)], axis =1)\n",
    "df_customer_visit_final=df_customer_visit_final.rename(columns= {0:'Min visits',1:'Mean visits', 2:'Max visits'})"
   ]
  },
  {
   "cell_type": "code",
   "execution_count": 14,
   "id": "28cda021",
   "metadata": {},
   "outputs": [],
   "source": [
    "def get_cust_visit(market, units_demand):\n",
    "    \"\"\"\n",
    "    Function to find out mean, max and min customer visit for each FC primary and secondary transaction. \n",
    "    Assumptions : \n",
    "        1. The value of visits post multiplied by customer interaction factor should always >0 otherwise it \n",
    "    will be taken out of distribution and remaining values will get calculated to find mean, max and min \n",
    "        2. Upper limit of customer interaction is capped by transactions that have happened\n",
    "        3. If unit is zero - customer interaction for that line is zero\n",
    "    Argument :\n",
    "        market (int)  : primary or secondary market variable (1 or 2)\n",
    "        units_demand (float) : each unit demand for that combination\n",
    "    \n",
    "    \"\"\"\n",
    "    if units_demand>0:\n",
    "        if market==1:\n",
    "            visits_p = []\n",
    "            for j in range(max_sim_customer_sample):\n",
    "                ####generating estimated number \n",
    "                visits_p.append( units_demand*(prim_mean_visit+(prim_max_visit-prim_min_visit)*(1/6)*np.random.normal(0,1)))\n",
    "                item_instore_conclusion = units_demand*(prim_mean_visit+(prim_max_visit-prim_min_visit)*(1/6)*np.random.normal(0,1))\n",
    "                \n",
    "\n",
    "            visits_p=np.asarray(visits_p)\n",
    "#             print(visits_p)\n",
    "#             print(visits_p[visits_p>0])\n",
    "            visits_p=visits_p[(visits_p>0) & ((visits_p)<=units_demand)]\n",
    "            expected_visit_mean = np.percentile(visits_p,50)\n",
    "            expected_visit_high = np.percentile(visits_p,sim_upper_bound_percentile)\n",
    "            expected_visit_low = np.percentile(visits_p,sim_lower_bound_percentile)\n",
    "\n",
    "        if market==2:\n",
    "            visits_p = []\n",
    "            for j in range(max_sim_customer_sample):\n",
    "                ####generating estimated number \n",
    "                ## assumed that lower would be 10% and upper would be 35 percent same delta for given in case document \n",
    "                visits_p.append(units_demand*(sec_mean_visit+(sec_max_visit-sec_min_visit )*(1/6)*np.random.normal(0,1)))  \n",
    "            visits_p=np.asarray(visits_p, dtype=float)\n",
    "            visits_p=visits_p[visits_p>0 & ((visits_p)<=units_demand)]\n",
    "            expected_visit_mean = np.percentile(visits_p,50)\n",
    "            expected_visit_high = np.percentile(visits_p,sim_upper_bound_percentile)\n",
    "            expected_visit_low = np.percentile(visits_p,sim_lower_bound_percentile)\n",
    "#         print(expected_visit_low, expected_visit_mean,expected_visit_high)\n",
    "        return expected_visit_low, expected_visit_mean,expected_visit_high\n",
    "    else :\n",
    "#         print(0,0,0)\n",
    "        return 0,0,0"
   ]
  },
  {
   "cell_type": "code",
   "execution_count": 16,
   "id": "e458ff5e",
   "metadata": {},
   "outputs": [
    {
     "data": {
      "text/html": [
       "<div>\n",
       "<style scoped>\n",
       "    .dataframe tbody tr th:only-of-type {\n",
       "        vertical-align: middle;\n",
       "    }\n",
       "\n",
       "    .dataframe tbody tr th {\n",
       "        vertical-align: top;\n",
       "    }\n",
       "\n",
       "    .dataframe thead th {\n",
       "        text-align: right;\n",
       "    }\n",
       "</style>\n",
       "<table border=\"1\" class=\"dataframe\">\n",
       "  <thead>\n",
       "    <tr style=\"text-align: right;\">\n",
       "      <th></th>\n",
       "      <th>Month</th>\n",
       "      <th>Day</th>\n",
       "      <th>FC</th>\n",
       "      <th>Market Category</th>\n",
       "      <th>Region</th>\n",
       "      <th>Units</th>\n",
       "      <th>Min visits</th>\n",
       "      <th>Mean visits</th>\n",
       "      <th>Max visits</th>\n",
       "    </tr>\n",
       "    <tr>\n",
       "      <th>Year</th>\n",
       "      <th></th>\n",
       "      <th></th>\n",
       "      <th></th>\n",
       "      <th></th>\n",
       "      <th></th>\n",
       "      <th></th>\n",
       "      <th></th>\n",
       "      <th></th>\n",
       "      <th></th>\n",
       "    </tr>\n",
       "  </thead>\n",
       "  <tbody>\n",
       "    <tr>\n",
       "      <th>1</th>\n",
       "      <td>65520</td>\n",
       "      <td>146160</td>\n",
       "      <td>80640</td>\n",
       "      <td>15120</td>\n",
       "      <td>0</td>\n",
       "      <td>360.000000</td>\n",
       "      <td>196.891535</td>\n",
       "      <td>237.281089</td>\n",
       "      <td>278.190706</td>\n",
       "    </tr>\n",
       "    <tr>\n",
       "      <th>2</th>\n",
       "      <td>65520</td>\n",
       "      <td>146160</td>\n",
       "      <td>80640</td>\n",
       "      <td>15120</td>\n",
       "      <td>0</td>\n",
       "      <td>991.597531</td>\n",
       "      <td>496.215957</td>\n",
       "      <td>604.324501</td>\n",
       "      <td>711.159874</td>\n",
       "    </tr>\n",
       "    <tr>\n",
       "      <th>3</th>\n",
       "      <td>65520</td>\n",
       "      <td>146160</td>\n",
       "      <td>80640</td>\n",
       "      <td>15120</td>\n",
       "      <td>0</td>\n",
       "      <td>2712.498642</td>\n",
       "      <td>1331.327317</td>\n",
       "      <td>1624.262479</td>\n",
       "      <td>1917.236037</td>\n",
       "    </tr>\n",
       "    <tr>\n",
       "      <th>4</th>\n",
       "      <td>65520</td>\n",
       "      <td>146160</td>\n",
       "      <td>80640</td>\n",
       "      <td>15120</td>\n",
       "      <td>0</td>\n",
       "      <td>4620.049756</td>\n",
       "      <td>2296.653750</td>\n",
       "      <td>2797.259545</td>\n",
       "      <td>3295.720779</td>\n",
       "    </tr>\n",
       "    <tr>\n",
       "      <th>5</th>\n",
       "      <td>65520</td>\n",
       "      <td>146160</td>\n",
       "      <td>80640</td>\n",
       "      <td>15120</td>\n",
       "      <td>0</td>\n",
       "      <td>7962.099435</td>\n",
       "      <td>4011.389484</td>\n",
       "      <td>4879.479936</td>\n",
       "      <td>5747.017178</td>\n",
       "    </tr>\n",
       "    <tr>\n",
       "      <th>6</th>\n",
       "      <td>65520</td>\n",
       "      <td>146160</td>\n",
       "      <td>80640</td>\n",
       "      <td>15120</td>\n",
       "      <td>0</td>\n",
       "      <td>12687.896942</td>\n",
       "      <td>6476.724051</td>\n",
       "      <td>7861.376840</td>\n",
       "      <td>9244.094558</td>\n",
       "    </tr>\n",
       "    <tr>\n",
       "      <th>7</th>\n",
       "      <td>65520</td>\n",
       "      <td>146160</td>\n",
       "      <td>80640</td>\n",
       "      <td>15120</td>\n",
       "      <td>0</td>\n",
       "      <td>18699.271723</td>\n",
       "      <td>9610.795218</td>\n",
       "      <td>11665.948273</td>\n",
       "      <td>13718.078363</td>\n",
       "    </tr>\n",
       "    <tr>\n",
       "      <th>8</th>\n",
       "      <td>65520</td>\n",
       "      <td>146160</td>\n",
       "      <td>80640</td>\n",
       "      <td>15120</td>\n",
       "      <td>0</td>\n",
       "      <td>26421.942044</td>\n",
       "      <td>13653.012600</td>\n",
       "      <td>16579.006858</td>\n",
       "      <td>19478.511264</td>\n",
       "    </tr>\n",
       "    <tr>\n",
       "      <th>9</th>\n",
       "      <td>65520</td>\n",
       "      <td>146160</td>\n",
       "      <td>80640</td>\n",
       "      <td>15120</td>\n",
       "      <td>0</td>\n",
       "      <td>35999.416234</td>\n",
       "      <td>18655.578780</td>\n",
       "      <td>22620.546365</td>\n",
       "      <td>26589.733203</td>\n",
       "    </tr>\n",
       "    <tr>\n",
       "      <th>10</th>\n",
       "      <td>65520</td>\n",
       "      <td>146160</td>\n",
       "      <td>80640</td>\n",
       "      <td>15120</td>\n",
       "      <td>0</td>\n",
       "      <td>45039.352774</td>\n",
       "      <td>23452.746709</td>\n",
       "      <td>28422.250638</td>\n",
       "      <td>33378.247924</td>\n",
       "    </tr>\n",
       "  </tbody>\n",
       "</table>\n",
       "</div>"
      ],
      "text/plain": [
       "      Month     Day     FC  Market Category  Region         Units  \\\n",
       "Year                                                                \n",
       "1     65520  146160  80640            15120       0    360.000000   \n",
       "2     65520  146160  80640            15120       0    991.597531   \n",
       "3     65520  146160  80640            15120       0   2712.498642   \n",
       "4     65520  146160  80640            15120       0   4620.049756   \n",
       "5     65520  146160  80640            15120       0   7962.099435   \n",
       "6     65520  146160  80640            15120       0  12687.896942   \n",
       "7     65520  146160  80640            15120       0  18699.271723   \n",
       "8     65520  146160  80640            15120       0  26421.942044   \n",
       "9     65520  146160  80640            15120       0  35999.416234   \n",
       "10    65520  146160  80640            15120       0  45039.352774   \n",
       "\n",
       "        Min visits   Mean visits    Max visits  \n",
       "Year                                            \n",
       "1       196.891535    237.281089    278.190706  \n",
       "2       496.215957    604.324501    711.159874  \n",
       "3      1331.327317   1624.262479   1917.236037  \n",
       "4      2296.653750   2797.259545   3295.720779  \n",
       "5      4011.389484   4879.479936   5747.017178  \n",
       "6      6476.724051   7861.376840   9244.094558  \n",
       "7      9610.795218  11665.948273  13718.078363  \n",
       "8     13653.012600  16579.006858  19478.511264  \n",
       "9     18655.578780  22620.546365  26589.733203  \n",
       "10    23452.746709  28422.250638  33378.247924  "
      ]
     },
     "execution_count": 16,
     "metadata": {},
     "output_type": "execute_result"
    }
   ],
   "source": [
    "df_customer_visit_final.groupby(by='Year').sum()"
   ]
  },
  {
   "cell_type": "code",
   "execution_count": 219,
   "id": "4bb415ea",
   "metadata": {},
   "outputs": [
    {
     "data": {
      "text/plain": [
       "Text(0, 0.5, 'Number of customer visits')"
      ]
     },
     "execution_count": 219,
     "metadata": {},
     "output_type": "execute_result"
    },
    {
     "data": {
      "image/png": "[encoded data removed]",
      "text/plain": [
       "<Figure size 432x288 with 1 Axes>"
      ]
     },
     "metadata": {
      "needs_background": "light"
     },
     "output_type": "display_data"
    }
   ],
   "source": [
    "plt.plot(df_customer_visit_final.groupby(by='Year').sum()[['Min visits','Mean visits','Max visits']])\n",
    "plt.xlabel('Year')\n",
    "plt.ylabel('Number of customer visits')"
   ]
  },
  {
   "cell_type": "markdown",
   "id": "5e69e7e0",
   "metadata": {},
   "source": [
    "### Estimating customer visit initiation and conclusion counts"
   ]
  },
  {
   "cell_type": "code",
   "execution_count": 12,
   "id": "15c1308a",
   "metadata": {},
   "outputs": [],
   "source": [
    "expected_visit = 1000"
   ]
  },
  {
   "cell_type": "code",
   "execution_count": 150,
   "id": "50bbb4c5",
   "metadata": {},
   "outputs": [
    {
     "name": "stdout",
     "output_type": "stream",
     "text": [
      "40.41913613842905\n"
     ]
    },
    {
     "data": {
      "text/plain": [
       "((33.38423338762686, 40.41913613842905, 45.60035656521431), 54.39964343478569)"
      ]
     },
     "execution_count": 150,
     "metadata": {},
     "output_type": "execute_result"
    }
   ],
   "source": [
    "get_initi_concl_visits(100)"
   ]
  },
  {
   "cell_type": "code",
   "execution_count": 163,
   "id": "4f6697a3",
   "metadata": {},
   "outputs": [],
   "source": [
    "\n",
    "\n",
    "def get_initi_concl_visits(expected_visit):\n",
    "    \"\"\"\n",
    "    This function takes the expected customer visit number from get_cust_visit() function and breaks it down to \n",
    "    customer initiation, conclusion and delivery numbers\n",
    "    \n",
    "    Assumption :\n",
    "    1. All distributions follow gaussian normal\n",
    "    2. One customer only interacts with store only once\n",
    "    3. One customer only buys one item from the store or online\n",
    "    Arg:\n",
    "    1. expected_visit (float) : Expected customer visit \n",
    "    \"\"\"\n",
    "    #defining the distribution bounds for customers who are estimated to conclude the transaction through store\n",
    "    #picking up and taking home immediately on store visit is considered as two different transactions concluded in store\n",
    "    Total_visits_cncld_store_mean_per = 0.4\n",
    "    Total_visits_cncld_store_max_per = 0.5\n",
    "    Total_visits_cncld_store_min_per = 0.3\n",
    "    \n",
    "    \n",
    "    #defining the distribution for customers who seriously initiate the interaction in store. That means defining \n",
    "    #distribution of customers who will order online for any given day\n",
    "    #certain percent of these customers will initiate in store but get it delivered home\n",
    "    Total_initiation_in_Store_min_per = 0.3   #ie 70% initiated it online and they come to pick up \n",
    "    Total_initiation_in_Store_mean_per = 0.5  #ie 50% initiated it online and they come to pick up \n",
    "    Total_initiation_in_Store_max_per = 0.7   ##ie 30% initiated it online and they come to pick up\n",
    "    \n",
    "    \n",
    "    \n",
    "    #Dataframe to store breakdown of total customer interaction\n",
    "    final_cust_interaction = pd.DataFrame(columns=['Total_visits_cncld_store_min', \n",
    "                                                   'Total_visits_cncld_store_mean',\n",
    "                                                  'Total_visits_cncld_store_max',\n",
    "                                                   'Total_visits_cncld_delivery_init_store_min',\n",
    "                                                   'Total_visits_cncld_delivery_init_store_mean',\n",
    "                                                   'Total_visits_cncld_delivery_init_store_max',\n",
    "                                                   'Net_vists_init_store_cncld_store_min',\n",
    "                                                   'Net_vists_init_store_cncld_store_mean',\n",
    "                                                   'Net_vists_init_store_cncld_store_max'\n",
    "                                                  ])\n",
    "    \n",
    "    #simulate the distribution and get min, mean and maximum numbers\n",
    "    _total_store_concld_arr= simulate_rv(max_sim_customer_sample, expected_visit,Total_visits_cncld_store_min_per,\n",
    "                Total_visits_cncld_store_mean_per, Total_visits_cncld_store_max_per)\n",
    "    \n",
    "    #calling get_mean_range to obtain mean, max and min of this sample\n",
    "    Total_visits_cncld_store= get_mean_range(_total_store_concld_arr, expected_visit_mean)\n",
    "    \n",
    "    #adding total customer visits to final dataframe\n",
    "    final_cust_interaction=final_cust_interaction.append({'Total_visits_cncld_store_min':Total_visits_cncld_store[0],\n",
    "                            'Total_visits_cncld_store_mean':Total_visits_cncld_store[1],\n",
    "                            'Total_visits_cncld_store_max':Total_visits_cncld_store[2]}, ignore_index=True)\n",
    "    \n",
    "    \n",
    "    #Calculating total initiated in store strictly but delivered to home ie concluded at home delivery\n",
    "    Total_visits_cncld_delivery_init_store_min = expected_visit - Total_visits_cncld_store[2] #N-max = min of delivery\n",
    "    Total_visits_cncld_delivery_init_store_mean = expected_visit - Total_visits_cncld_store[1] #N-mean = mean of delivery\n",
    "    Total_visits_cncld_delivery_init_store_max = expected_visit - Total_visits_cncld_store[0] #N-min = max of delivery\n",
    "    \n",
    "    final_cust_interaction['Total_visits_cncld_delivery_init_store_min']= Total_visits_cncld_delivery_init_store_min\n",
    "    final_cust_interaction['Total_visits_cncld_delivery_init_store_mean']= Total_visits_cncld_delivery_init_store_mean\n",
    "    final_cust_interaction['Total_visits_cncld_delivery_init_store_max']= Total_visits_cncld_delivery_init_store_max\n",
    "    \n",
    "    \n",
    "    #Going one level deeper - split total people who concluded at store into two buckets\n",
    "    #1. People who initiated in store and also immediately concluded in store - bought and pickedup immediately\n",
    "    #2. People who initiated online and picked up from store ie concluded in store\n",
    "    \n",
    "    #Process --> Take total customer visit to store --> find mean of customers who might have initiated in store and immediately pickedup\n",
    "    # --> customers that have initiated online and concld in store = total vists cncld in store - total initiated in store and immediately pickedup\n",
    "    \n",
    "    ###mean value of total people who concluded in store\n",
    "    print(Total_visits_cncld_store[1], 'mean')\n",
    "    _total_inti_store_cncld_store = simulate_rv(max_sim_customer_sample, Total_visits_cncld_store[1],\n",
    "                                               Total_initiation_in_Store_min_per,\n",
    "                                               Total_initiation_in_Store_mean_per,\n",
    "                                               Total_initiation_in_Store_max_per)\n",
    "    #get only mean of this population and leave max and min \n",
    "    _total_inti_store_cncld_store_mean = get_mean_range(_total_inti_store_cncld_store,Total_visits_cncld_store[1])[1] \n",
    "    \n",
    "    #assigning this back to main dataframe\n",
    "    final_cust_interaction['Net_vists_init_store_cncld_store_mean']= _total_inti_store_cncld_store_mean\n",
    "    \n",
    "    ###min value of total people who concluded in store\n",
    "    print(Total_visits_cncld_store[0], 'min')\n",
    "    _total_inti_store_cncld_store = simulate_rv(max_sim_customer_sample, Total_visits_cncld_store[0],\n",
    "                                               Total_initiation_in_Store_min_per,\n",
    "                                               Total_initiation_in_Store_mean_per,\n",
    "                                               Total_initiation_in_Store_max_per)\n",
    "    #get only mean of this population and leave max and min \n",
    "    _total_inti_store_cncld_store_min = get_mean_range(_total_inti_store_cncld_store,Total_visits_cncld_store[0])[1] \n",
    "    \n",
    "    #assigning this back to main dataframe\n",
    "    final_cust_interaction['Net_vists_init_store_cncld_store_min']= _total_inti_store_cncld_store_min\n",
    "    \n",
    "    ###max value of total people who concluded in store\n",
    "    print(Total_visits_cncld_store[2], 'max')\n",
    "    _total_inti_store_cncld_store = simulate_rv(max_sim_customer_sample, Total_visits_cncld_store[2],\n",
    "                                               Total_initiation_in_Store_min_per,\n",
    "                                               Total_initiation_in_Store_mean_per,\n",
    "                                               Total_initiation_in_Store_max_per)\n",
    "    #get only mean of this population and leave max and min \n",
    "    _total_inti_store_cncld_store_max = get_mean_range(_total_inti_store_cncld_store,Total_visits_cncld_store[2])[1] \n",
    "    \n",
    "    #assigning this back to main dataframe\n",
    "    final_cust_interaction['Net_vists_init_store_cncld_store_max']= _total_inti_store_cncld_store_max\n",
    "    \n",
    "    \n",
    "    print(_total_inti_store_cncld_store_mean)\n",
    "    print(_total_inti_store_cncld_store_min,'min')\n",
    "    print(_total_inti_store_cncld_store_max,'max')\n",
    "    print(final_cust_interaction)\n",
    "    return Total_visits_cncld_store, Total_visits_cncld_delivery_init_store_min\n",
    "\n",
    "    \n",
    "    "
   ]
  },
  {
   "cell_type": "code",
   "execution_count": null,
   "id": "1f103230",
   "metadata": {},
   "outputs": [],
   "source": []
  },
  {
   "cell_type": "markdown",
   "id": "7bc9a0ec",
   "metadata": {},
   "source": [
    "# get_initi_concl_visits(100)"
   ]
  },
  {
   "cell_type": "code",
   "execution_count": 143,
   "id": "c0dda824",
   "metadata": {},
   "outputs": [],
   "source": [
    "def get_mean_range(array, unit_multiplier):\n",
    "    \"\"\"\n",
    "    This function to be used inside get_initi_concl_visits and calculates min, mean and max of given sample at \n",
    "    predefined percentiles \n",
    "\n",
    "    \"\"\"\n",
    "    array=array[(array>0) & (array<=unit_multiplier)]\n",
    "    mean = np.percentile(array, 50)\n",
    "    max = np.percentile(array, sim_upper_bound_percentile)\n",
    "    min = np.percentile(array, sim_lower_bound_percentile)\n",
    "    \n",
    "    return min, mean, max \n",
    "    \n",
    "    "
   ]
  },
  {
   "cell_type": "code",
   "execution_count": 18,
   "id": "fb73c113",
   "metadata": {},
   "outputs": [],
   "source": [
    "max_sim_customer_sample = 50\n",
    "sim_upper_bound_percentile = 97.5\n",
    "sim_lower_bound_percentile = 2.5"
   ]
  },
  {
   "cell_type": "code",
   "execution_count": 142,
   "id": "6cda3552",
   "metadata": {},
   "outputs": [],
   "source": [
    "def simulate_rv(simulation_sample_size, unit_multiplier, min_of_rv, mean_rv, max_of_rv):\n",
    "    \"\"\"\n",
    "    This function simulates given random variables assuming it follows normal gaussian distribution for given number \n",
    "    sample size.\n",
    "    \n",
    "    Arg :\n",
    "    1. simulation_sample_size (int) : Number of samples you want to create in at given time\n",
    "    2. unit_multiplier (float) : Any unit quantity that is getting broken down by this random variable\n",
    "    3. min_of_rv, mean_rv, max_of_rv (float) : min, mean and max bounds for the random variable\n",
    "    \n",
    "    Returns :\n",
    "    1. sample (np.array) : array of simulated sample items\n",
    "    \"\"\"\n",
    "    sample = []\n",
    "    for i in range(simulation_sample_size ):\n",
    "        ith_sample = unit_multiplier *(mean_rv+(max_of_rv-min_of_rv )*(1/6)*np.random.normal(0,1))\n",
    "        \n",
    "        sample.append(ith_sample)\n",
    "    \n",
    "    sample= np.asarray(sample, dtype= float)\n",
    "    return sample"
   ]
  },
  {
   "cell_type": "code",
   "execution_count": null,
   "id": "91c0bb68",
   "metadata": {},
   "outputs": [],
   "source": []
  }
 ],
 "metadata": {
  "kernelspec": {
   "display_name": "Python 3",
   "language": "python",
   "name": "python3"
  },
  "language_info": {
   "codemirror_mode": {
    "name": "ipython",
    "version": 3
   },
   "file_extension": ".py",
   "mimetype": "text/x-python",
   "name": "python",
   "nbconvert_exporter": "python",
   "pygments_lexer": "ipython3",
   "version": "3.8.8"
  }
 },
 "nbformat": 4,
 "nbformat_minor": 5
}
